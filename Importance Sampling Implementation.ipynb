{
 "cells": [
  {
   "cell_type": "markdown",
   "metadata": {},
   "source": [
    "* Importance sampling is an approximation method instaed of sampling method.\n",
    "\n",
    "* it derives from a little mathematic transformation and is able to formulate the problem in another way."
   ]
  },
  {
   "cell_type": "code",
   "execution_count": 11,
   "metadata": {},
   "outputs": [],
   "source": [
    "import numpy as np\n",
    "import pandas as pd\n",
    "from scipy import stats\n",
    "from numpy import mean\n",
    "\n",
    "# simple examples\n",
    "def f_x(x):\n",
    "    return 1 / (1 + np.exp(-x))"
   ]
  },
  {
   "cell_type": "code",
   "execution_count": 9,
   "metadata": {},
   "outputs": [],
   "source": [
    "# let's define the distribution of P(x) and Q(x)\n",
    "\n",
    "def distribution(mu=0, sigma=1):\n",
    "    # return probability given a value\n",
    "    distribution = stats.norm(mu, sigma)\n",
    "    return distribution"
   ]
  },
  {
   "cell_type": "code",
   "execution_count": 10,
   "metadata": {},
   "outputs": [],
   "source": [
    "# pre-setting\n",
    "n = 1000\n",
    "\n",
    "mu_target = 3.5\n",
    "sigma_target = 1\n",
    "mu_appro = 3\n",
    "sigma_appro = 1\n",
    "\n",
    "p_x = distribution(mu_target, sigma_target)\n",
    "q_x = distribution(mu_appro, sigma_appro)"
   ]
  },
  {
   "cell_type": "markdown",
   "metadata": {},
   "source": [
    "### sample from p(x)"
   ]
  },
  {
   "cell_type": "code",
   "execution_count": 31,
   "metadata": {},
   "outputs": [
    {
     "name": "stdout",
     "output_type": "stream",
     "text": [
      "mean and variance of p is 0.956 and 0.002\n"
     ]
    }
   ],
   "source": [
    "s = 0\n",
    "p_value_list = []\n",
    "for i in range(n):\n",
    "    # draw a sample\n",
    "    x_i = np.random.normal(mu_target, sigma_target)\n",
    "    p_value_list.append(f_x(x_i))\n",
    "    \n",
    "print(\"mean and variance of p is {:.3f} and {:.3f}\".format(np.mean(p_value_list), np.var(p_value_list)))\n"
   ]
  },
  {
   "cell_type": "markdown",
   "metadata": {},
   "source": [
    "### sample from q(x)"
   ]
  },
  {
   "cell_type": "code",
   "execution_count": 14,
   "metadata": {},
   "outputs": [],
   "source": [
    "value_list = []\n",
    "\n",
    "for i in range(n):\n",
    "    # sample from different distribution\n",
    "    x_i = np.random.normal(mu_appro, sigma_appro)\n",
    "    value = f_x(x_i) * (p_x.pdf(x_i) / q_x.pdf(x_i))\n",
    "    \n",
    "    value_list.append(value)"
   ]
  },
  {
   "cell_type": "code",
   "execution_count": 30,
   "metadata": {},
   "outputs": [
    {
     "name": "stdout",
     "output_type": "stream",
     "text": [
      "Mean using importance sampling of q is 0.950\n",
      "Variance using importance sampling of q is 0.288\n"
     ]
    }
   ],
   "source": [
    "print(\"Mean using importance sampling of q is {:.3f}\".format(np.mean(value_list)))\n",
    "print(\"Variance using importance sampling of q is {:.3f}\".format(np.var(value_list)))"
   ]
  },
  {
   "cell_type": "code",
   "execution_count": null,
   "metadata": {},
   "outputs": [],
   "source": []
  }
 ],
 "metadata": {
  "kernelspec": {
   "display_name": "Python 3",
   "language": "python",
   "name": "python3"
  },
  "language_info": {
   "codemirror_mode": {
    "name": "ipython",
    "version": 3
   },
   "file_extension": ".py",
   "mimetype": "text/x-python",
   "name": "python",
   "nbconvert_exporter": "python",
   "pygments_lexer": "ipython3",
   "version": "3.8.5"
  }
 },
 "nbformat": 4,
 "nbformat_minor": 4
}
